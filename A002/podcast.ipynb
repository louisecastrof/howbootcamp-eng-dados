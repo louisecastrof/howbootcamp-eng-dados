{
 "cells": [
  {
   "cell_type": "code",
   "execution_count": 31,
   "id": "cc622a4a-1a5c-4760-aba3-22e31397da81",
   "metadata": {},
   "outputs": [],
   "source": [
    "import requests\n",
    "from bs4 import BeautifulSoup as bs\n",
    "import logging\n",
    "import pandas as pd"
   ]
  },
  {
   "cell_type": "code",
   "execution_count": 2,
   "id": "29fb72ab-4a1e-46c8-8161-d77369fb7937",
   "metadata": {},
   "outputs": [],
   "source": [
    "url = 'https://portalcafebrasil.com.br/todos/podcasts/'"
   ]
  },
  {
   "cell_type": "code",
   "execution_count": 3,
   "id": "54aa627d-dde0-46b3-99e1-be3814241eea",
   "metadata": {},
   "outputs": [],
   "source": [
    "ret = requests.get(url)"
   ]
  },
  {
   "cell_type": "code",
   "execution_count": null,
   "id": "d7279442-66bb-4039-a9f5-6893a37ac9fa",
   "metadata": {},
   "outputs": [],
   "source": [
    "ret.text"
   ]
  },
  {
   "cell_type": "code",
   "execution_count": null,
   "id": "eda0cf47-1935-4b15-8254-d9907dfd0a47",
   "metadata": {},
   "outputs": [],
   "source": [
    "!pip install bs4"
   ]
  },
  {
   "cell_type": "code",
   "execution_count": 7,
   "id": "d4a9569e-8caa-420a-ac1b-9d7e72f25139",
   "metadata": {},
   "outputs": [],
   "source": [
    "soup = bs(ret.text)"
   ]
  },
  {
   "cell_type": "code",
   "execution_count": null,
   "id": "ee3662f8-e101-4381-839d-aedf83a5a5ac",
   "metadata": {},
   "outputs": [],
   "source": [
    "soup"
   ]
  },
  {
   "cell_type": "code",
   "execution_count": 9,
   "id": "9f667885-d11c-4118-bc6f-40aee0730ecf",
   "metadata": {},
   "outputs": [
    {
     "data": {
      "text/plain": [
       "<h5><a href=\"https://portalcafebrasil.com.br/podcasts/cafe-brasil-834-a-lei-de-gresham/\">Café Brasil 834 – A Lei de Gresham</a></h5>"
      ]
     },
     "execution_count": 9,
     "metadata": {},
     "output_type": "execute_result"
    }
   ],
   "source": [
    "soup.find('h5')"
   ]
  },
  {
   "cell_type": "code",
   "execution_count": 10,
   "id": "e12f7976-23d7-4522-ace8-f15d5fdb3bcb",
   "metadata": {},
   "outputs": [
    {
     "data": {
      "text/plain": [
       "'Café Brasil 834 – A Lei de Gresham'"
      ]
     },
     "execution_count": 10,
     "metadata": {},
     "output_type": "execute_result"
    }
   ],
   "source": [
    "soup.find('h5').text"
   ]
  },
  {
   "cell_type": "code",
   "execution_count": 12,
   "id": "11b82fa7-981e-4258-9842-228e5bcc72e1",
   "metadata": {},
   "outputs": [
    {
     "data": {
      "text/plain": [
       "'https://portalcafebrasil.com.br/podcasts/cafe-brasil-834-a-lei-de-gresham/'"
      ]
     },
     "execution_count": 12,
     "metadata": {},
     "output_type": "execute_result"
    }
   ],
   "source": [
    "soup.find('h5').a['href']"
   ]
  },
  {
   "cell_type": "code",
   "execution_count": 14,
   "id": "cb45e5d1-0e05-4cfb-a16c-2bd4b4dab459",
   "metadata": {},
   "outputs": [],
   "source": [
    "lst_podcast = soup.find_all('h5')"
   ]
  },
  {
   "cell_type": "code",
   "execution_count": null,
   "id": "2b4e3913-8b5b-46d3-ad0e-37bc8ea8e2c5",
   "metadata": {},
   "outputs": [],
   "source": [
    "for item in lst_podcast:\n",
    "    print(f\"EP: {item.text} - Link: {item.a['href']}\")"
   ]
  },
  {
   "cell_type": "code",
   "execution_count": 16,
   "id": "deaa246b-0f25-478c-8a94-f97433b2c46f",
   "metadata": {},
   "outputs": [],
   "source": [
    "url = 'https://portalcafebrasil.com.br/todos/podcasts/page/{}/?ajax=true'"
   ]
  },
  {
   "cell_type": "code",
   "execution_count": 17,
   "id": "17727e07-9a05-400c-a6bc-3f393021fd9c",
   "metadata": {},
   "outputs": [
    {
     "data": {
      "text/plain": [
       "'https://portalcafebrasil.com.br/todos/podcasts/page/5/?ajax=true'"
      ]
     },
     "execution_count": 17,
     "metadata": {},
     "output_type": "execute_result"
    }
   ],
   "source": [
    "url.format(5)"
   ]
  },
  {
   "cell_type": "code",
   "execution_count": 19,
   "id": "fb173134-67b7-4511-a854-7bb525dc1216",
   "metadata": {},
   "outputs": [],
   "source": [
    "def get_podcast(url):\n",
    "    ret = requests.get(url)\n",
    "    soup = bs(ret.text)\n",
    "    return soup.find_all('h5')"
   ]
  },
  {
   "cell_type": "code",
   "execution_count": null,
   "id": "23b01bd7-d274-442c-b8d0-358b9d8bc23f",
   "metadata": {},
   "outputs": [],
   "source": []
  },
  {
   "cell_type": "code",
   "execution_count": null,
   "id": "c41f1c76-c210-4e64-8ed5-20510b8c1f4a",
   "metadata": {},
   "outputs": [],
   "source": [
    "get_podcast(url.format(5))"
   ]
  },
  {
   "cell_type": "code",
   "execution_count": 24,
   "id": "72ce54d8-31c0-494f-8d2f-9df62ec69918",
   "metadata": {},
   "outputs": [],
   "source": [
    "log = logging.getLogger()\n",
    "log.setLevel(logging.DEBUG)\n",
    "formatter = logging.Formatter(\n",
    "    '%(asctime)s - %(name)s - %(levelname)s - %(message)s')\n",
    "ch = logging.StreamHandler()\n",
    "ch.setFormatter(formatter)\n",
    "log.addHandler(ch)\n"
   ]
  },
  {
   "cell_type": "code",
   "execution_count": null,
   "id": "157b34d9-abc0-4f4d-8b38-32d2fe219f60",
   "metadata": {},
   "outputs": [],
   "source": [
    "i = 1\n",
    "lst_podcast = []\n",
    "lst_get = get_podcast(url.format(i))\n",
    "log.debug(f\"Coletado {len(lst_get)} episódios do link: {url.format(i)}\")\n",
    "while len(lst_get) > 0:\n",
    "    lst_podcast = lst_podcast + lst_get\n",
    "    i += 1 \n",
    "    lst_get = get_podcast(url.format(i))\n",
    "    log.debug(f\"Coletado {len(lst_get)} episódios do link: {url.format(i)}\")\n"
   ]
  },
  {
   "cell_type": "code",
   "execution_count": 29,
   "id": "d09f990d-d4c7-4986-8b02-18188294e281",
   "metadata": {},
   "outputs": [
    {
     "data": {
      "text/plain": [
       "871"
      ]
     },
     "execution_count": 29,
     "metadata": {},
     "output_type": "execute_result"
    }
   ],
   "source": [
    "len(lst_podcast)"
   ]
  },
  {
   "cell_type": "code",
   "execution_count": null,
   "id": "08749cf9-e233-48b2-abc5-8d0e946b5bbc",
   "metadata": {},
   "outputs": [],
   "source": [
    "!pip install pandas"
   ]
  },
  {
   "cell_type": "code",
   "execution_count": 32,
   "id": "604eb3a2-0811-4497-b955-20bcfc271937",
   "metadata": {},
   "outputs": [],
   "source": [
    "df = pd.DataFrame(columns=['nome', 'link'])\n",
    "for item in lst_podcast:\n",
    "    df.loc[df.shape[0]] = [item.text, item.a['href']]"
   ]
  },
  {
   "cell_type": "code",
   "execution_count": 33,
   "id": "a056a97e-765a-4928-b8bb-fb3145e082d8",
   "metadata": {},
   "outputs": [
    {
     "data": {
      "text/plain": [
       "(871, 2)"
      ]
     },
     "execution_count": 33,
     "metadata": {},
     "output_type": "execute_result"
    }
   ],
   "source": [
    "df.shape"
   ]
  },
  {
   "cell_type": "code",
   "execution_count": 34,
   "id": "477f77f5-e832-4efa-b209-cf81bbc7e8f3",
   "metadata": {},
   "outputs": [
    {
     "data": {
      "text/html": [
       "<div>\n",
       "<style scoped>\n",
       "    .dataframe tbody tr th:only-of-type {\n",
       "        vertical-align: middle;\n",
       "    }\n",
       "\n",
       "    .dataframe tbody tr th {\n",
       "        vertical-align: top;\n",
       "    }\n",
       "\n",
       "    .dataframe thead th {\n",
       "        text-align: right;\n",
       "    }\n",
       "</style>\n",
       "<table border=\"1\" class=\"dataframe\">\n",
       "  <thead>\n",
       "    <tr style=\"text-align: right;\">\n",
       "      <th></th>\n",
       "      <th>nome</th>\n",
       "      <th>link</th>\n",
       "    </tr>\n",
       "  </thead>\n",
       "  <tbody>\n",
       "    <tr>\n",
       "      <th>0</th>\n",
       "      <td>Café Brasil 834 – A Lei de Gresham</td>\n",
       "      <td>https://portalcafebrasil.com.br/podcasts/cafe-...</td>\n",
       "    </tr>\n",
       "    <tr>\n",
       "      <th>1</th>\n",
       "      <td>Café Brasil 833 – Rio, beleza e caos</td>\n",
       "      <td>https://portalcafebrasil.com.br/podcasts/cafe-...</td>\n",
       "    </tr>\n",
       "    <tr>\n",
       "      <th>2</th>\n",
       "      <td>Café Brasil 832 – Carta Aberta Ao Brasil – Rev...</td>\n",
       "      <td>https://portalcafebrasil.com.br/podcasts/cafe-...</td>\n",
       "    </tr>\n",
       "    <tr>\n",
       "      <th>3</th>\n",
       "      <td>Café Brasil 831 – Nossos problemas</td>\n",
       "      <td>https://portalcafebrasil.com.br/podcasts/cafe-...</td>\n",
       "    </tr>\n",
       "    <tr>\n",
       "      <th>4</th>\n",
       "      <td>Café Brasil 830 – Adultecer</td>\n",
       "      <td>https://portalcafebrasil.com.br/podcasts/cafe-...</td>\n",
       "    </tr>\n",
       "    <tr>\n",
       "      <th>...</th>\n",
       "      <td>...</td>\n",
       "      <td>...</td>\n",
       "    </tr>\n",
       "    <tr>\n",
       "      <th>866</th>\n",
       "      <td>Café Brasil 005 – Vozes do Brasil</td>\n",
       "      <td>https://portalcafebrasil.com.br/podcasts/vozes...</td>\n",
       "    </tr>\n",
       "    <tr>\n",
       "      <th>867</th>\n",
       "      <td>Café Brasil 004 – Sucesso</td>\n",
       "      <td>https://portalcafebrasil.com.br/podcasts/sucesso/</td>\n",
       "    </tr>\n",
       "    <tr>\n",
       "      <th>868</th>\n",
       "      <td>Café Brasil 003 – O Livro</td>\n",
       "      <td>https://portalcafebrasil.com.br/podcasts/o-livro/</td>\n",
       "    </tr>\n",
       "    <tr>\n",
       "      <th>869</th>\n",
       "      <td>Café Brasil 002 – Saudade Dói</td>\n",
       "      <td>https://portalcafebrasil.com.br/podcasts/002-s...</td>\n",
       "    </tr>\n",
       "    <tr>\n",
       "      <th>870</th>\n",
       "      <td>Café Brasil 001 – Mídia e Baixaria</td>\n",
       "      <td>https://portalcafebrasil.com.br/podcasts/midia...</td>\n",
       "    </tr>\n",
       "  </tbody>\n",
       "</table>\n",
       "<p>871 rows × 2 columns</p>\n",
       "</div>"
      ],
      "text/plain": [
       "                                                  nome  \\\n",
       "0                   Café Brasil 834 – A Lei de Gresham   \n",
       "1                 Café Brasil 833 – Rio, beleza e caos   \n",
       "2    Café Brasil 832 – Carta Aberta Ao Brasil – Rev...   \n",
       "3                   Café Brasil 831 – Nossos problemas   \n",
       "4                          Café Brasil 830 – Adultecer   \n",
       "..                                                 ...   \n",
       "866                  Café Brasil 005 – Vozes do Brasil   \n",
       "867                          Café Brasil 004 – Sucesso   \n",
       "868                          Café Brasil 003 – O Livro   \n",
       "869                      Café Brasil 002 – Saudade Dói   \n",
       "870                 Café Brasil 001 – Mídia e Baixaria   \n",
       "\n",
       "                                                  link  \n",
       "0    https://portalcafebrasil.com.br/podcasts/cafe-...  \n",
       "1    https://portalcafebrasil.com.br/podcasts/cafe-...  \n",
       "2    https://portalcafebrasil.com.br/podcasts/cafe-...  \n",
       "3    https://portalcafebrasil.com.br/podcasts/cafe-...  \n",
       "4    https://portalcafebrasil.com.br/podcasts/cafe-...  \n",
       "..                                                 ...  \n",
       "866  https://portalcafebrasil.com.br/podcasts/vozes...  \n",
       "867  https://portalcafebrasil.com.br/podcasts/sucesso/  \n",
       "868  https://portalcafebrasil.com.br/podcasts/o-livro/  \n",
       "869  https://portalcafebrasil.com.br/podcasts/002-s...  \n",
       "870  https://portalcafebrasil.com.br/podcasts/midia...  \n",
       "\n",
       "[871 rows x 2 columns]"
      ]
     },
     "execution_count": 34,
     "metadata": {},
     "output_type": "execute_result"
    }
   ],
   "source": [
    "df"
   ]
  },
  {
   "cell_type": "code",
   "execution_count": 35,
   "id": "92bf119d-47dd-44ba-b16a-427f01d2cbe9",
   "metadata": {},
   "outputs": [],
   "source": [
    "df.to_csv('banco_de_podcast.csv', sep=';', index=False)"
   ]
  },
  {
   "cell_type": "code",
   "execution_count": null,
   "id": "4a39450c-5644-42a4-a5c0-5a86b62bb7e8",
   "metadata": {},
   "outputs": [],
   "source": []
  }
 ],
 "metadata": {
  "kernelspec": {
   "display_name": "Python 3 (ipykernel)",
   "language": "python",
   "name": "python3"
  },
  "language_info": {
   "codemirror_mode": {
    "name": "ipython",
    "version": 3
   },
   "file_extension": ".py",
   "mimetype": "text/x-python",
   "name": "python",
   "nbconvert_exporter": "python",
   "pygments_lexer": "ipython3",
   "version": "3.10.6"
  }
 },
 "nbformat": 4,
 "nbformat_minor": 5
}
