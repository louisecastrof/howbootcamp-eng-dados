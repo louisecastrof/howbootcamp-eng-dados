{
 "cells": [
  {
   "cell_type": "code",
   "execution_count": 17,
   "id": "2f8f3905-4953-427d-86c6-39e0fe1bd4ef",
   "metadata": {},
   "outputs": [],
   "source": [
    "import requests\n",
    "import json\n",
    "import backoff\n",
    "import random\n",
    "import logging"
   ]
  },
  {
   "cell_type": "code",
   "execution_count": 2,
   "id": "91b1f38c-e63f-4dac-bb9f-cdc910f57883",
   "metadata": {},
   "outputs": [],
   "source": [
    "url = 'https://economia.awesomeapi.com.br/last/USD-BRL'\n",
    "ret = requests.get(url)"
   ]
  },
  {
   "cell_type": "code",
   "execution_count": 3,
   "id": "183476db-e573-4b43-a203-a4a42d1aa13a",
   "metadata": {},
   "outputs": [
    {
     "name": "stdout",
     "output_type": "stream",
     "text": [
      "<Response [200]>\n"
     ]
    }
   ],
   "source": [
    "if ret:\n",
    "    print(ret)\n",
    "else: \n",
    "    print('Falhou')"
   ]
  },
  {
   "cell_type": "code",
   "execution_count": 4,
   "id": "f02fc16d",
   "metadata": {},
   "outputs": [
    {
     "data": {
      "text/plain": [
       "{'code': 'USD',\n",
       " 'codein': 'BRL',\n",
       " 'name': 'Dólar Americano/Real Brasileiro',\n",
       " 'high': '5.1006',\n",
       " 'low': '5.0972',\n",
       " 'varBid': '0.0045',\n",
       " 'pctChange': '0.09',\n",
       " 'bid': '5.1001',\n",
       " 'ask': '5.101',\n",
       " 'timestamp': '1660649421',\n",
       " 'create_date': '2022-08-16 08:30:21'}"
      ]
     },
     "execution_count": 4,
     "metadata": {},
     "output_type": "execute_result"
    }
   ],
   "source": [
    "dolar = json.loads(ret.text)['USDBRL']\n",
    "dolar\n",
    "\n",
    "#print( f\" 20 dólares hoje equivalem a {float(dolar['bid']) * 20} reais\")\n"
   ]
  },
  {
   "cell_type": "code",
   "execution_count": 5,
   "id": "01cd770f",
   "metadata": {},
   "outputs": [
    {
     "name": "stdout",
     "output_type": "stream",
     "text": [
      " 20 USD hoje equivalem a 102.00200000000001 BRL\n",
      " 20 JPY hoje equivalem a 0.7589999999999999 BRL\n"
     ]
    }
   ],
   "source": [
    "def cotacao(valor, moeda):\n",
    "    url = f'https://economia.awesomeapi.com.br/last/{moeda}'\n",
    "# url = 'https://economia.awesomeapi.com.br/last/{}'.format(moeda) caso não queira usar f string\n",
    "    ret = requests.get(url)\n",
    "#A moeda era USD-BRL então foi necessário só dar um replace no hífen - pra acessar o JSON dentro do dolar (célula acima) - moeda é a chave de acesso ao JSON\n",
    "    dolar = json.loads(ret.text)[moeda.replace('-','')]\n",
    "#moeda :3 porque pega só os três primeiros caracteres / moeda -3: os três últimos\n",
    "    print( f\" {valor} {moeda[:3]} hoje equivalem a {float(dolar['bid']) * valor} {moeda[-3:]}\")\n",
    "\n",
    "cotacao(20, 'USD-BRL')\n",
    "cotacao(20, 'JPY-BRL')"
   ]
  },
  {
   "cell_type": "code",
   "execution_count": 7,
   "id": "a21f9564",
   "metadata": {},
   "outputs": [
    {
     "name": "stdout",
     "output_type": "stream",
     "text": [
      "'Louise'\n"
     ]
    }
   ],
   "source": [
    "#Lidando com erros - colocando o log de erro pra trazer o que não é encontrado\n",
    "try:\n",
    "    cotacao(20, 'Louise')\n",
    "except Exception as e:\n",
    "    print(e)\n",
    "else:\n",
    "    print('ok')"
   ]
  },
  {
   "cell_type": "code",
   "execution_count": 8,
   "id": "774f2873",
   "metadata": {},
   "outputs": [],
   "source": [
    "def error_check(func):\n",
    "    def inner_func(*args, **kargs):\n",
    "        try:\n",
    "            func(*args, **kargs)\n",
    "        except:\n",
    "            print(f\"{func.__name__} falhou\")\n",
    "    return inner_func\n",
    "\n",
    "@error_check\n",
    "def multi_moeda(valor, moeda):\n",
    "    url = f'https://economia.awesomeapi.com.br/last/{moeda}'\n",
    "    ret = requests.get(url)\n",
    "    dolar = json.loads(ret.text)[moeda.replace('-','')]\n",
    "    print( f\" {valor} {moeda[:3]} hoje equivalem a {float(dolar['bid']) * valor} {moeda[-3:]}\")\n"
   ]
  },
  {
   "cell_type": "code",
   "execution_count": 9,
   "id": "35c9dc49",
   "metadata": {},
   "outputs": [
    {
     "name": "stdout",
     "output_type": "stream",
     "text": [
      " 20 USD hoje equivalem a 102.00200000000001 BRL\n"
     ]
    }
   ],
   "source": [
    "multi_moeda(20, \"USD-BRL\")"
   ]
  },
  {
   "cell_type": "code",
   "execution_count": 10,
   "id": "1bee1679",
   "metadata": {},
   "outputs": [
    {
     "name": "stdout",
     "output_type": "stream",
     "text": [
      " 20 USD hoje equivalem a 102.00200000000001 BRL\n",
      " 20 EUR hoje equivalem a 103.236 BRL\n",
      " 20 BTC hoje equivalem a 2459.3 BRL\n",
      "multi_moeda falhou\n",
      " 20 JPY hoje equivalem a 0.7588 BRL\n"
     ]
    }
   ],
   "source": [
    "multi_moeda(20, \"USD-BRL\")\n",
    "multi_moeda(20, \"EUR-BRL\")\n",
    "multi_moeda(20, \"BTC-BRL\")\n",
    "multi_moeda(20, \"RPL-BRL\")\n",
    "multi_moeda(20, \"JPY-BRL\")"
   ]
  },
  {
   "cell_type": "code",
   "execution_count": null,
   "id": "b5c674fa",
   "metadata": {},
   "outputs": [],
   "source": [
    "# def simples(): #exemplo de um arg\n",
    "#     print('ok')\n",
    "\n",
    "# def simples(x = 1): #exemplo de um karg\n",
    "#     print('ok')"
   ]
  },
  {
   "cell_type": "code",
   "execution_count": 15,
   "id": "b2292b10",
   "metadata": {},
   "outputs": [],
   "source": [
    "@backoff.on_exception(backoff.expo, (ConnectionAbortedError, ConnectionRefusedError, TimeoutError), max_tries=10)\n",
    "def test_func(*args, **kargs):\n",
    "    rnd = random.random()\n",
    "    print(f\"\"\"\n",
    "            RND: {rnd}\n",
    "            args: {args if args else 'sem args'}\n",
    "            kargs: {kargs if kargs else 'sem kargs'}\n",
    "        \"\"\")\n",
    "    if rnd < .2:\n",
    "        raise ConnectionAbortedError('Conexão foi finalizada')\n",
    "    elif rnd < .4:\n",
    "        raise ConnectionRefusedError('Conexão foi recusada')\n",
    "    elif rnd < .6:\n",
    "        raise TimeoutError('Tempo de espera excedido')\n",
    "    else:\n",
    "        return \"OK!\"\n"
   ]
  },
  {
   "cell_type": "code",
   "execution_count": 16,
   "id": "c1d5e866",
   "metadata": {},
   "outputs": [
    {
     "name": "stdout",
     "output_type": "stream",
     "text": [
      "\n",
      "            RND: 0.16570829179295243\n",
      "            args: sem args\n",
      "            kargs: sem kargs\n",
      "        \n",
      "\n",
      "            RND: 0.4455749885445094\n",
      "            args: sem args\n",
      "            kargs: sem kargs\n",
      "        \n",
      "\n",
      "            RND: 0.7130393600994994\n",
      "            args: sem args\n",
      "            kargs: sem kargs\n",
      "        \n"
     ]
    },
    {
     "data": {
      "text/plain": [
       "'OK!'"
      ]
     },
     "execution_count": 16,
     "metadata": {},
     "output_type": "execute_result"
    }
   ],
   "source": [
    "test_func()"
   ]
  },
  {
   "cell_type": "code",
   "execution_count": 64,
   "id": "0a636a00",
   "metadata": {},
   "outputs": [
    {
     "name": "stdout",
     "output_type": "stream",
     "text": [
      "\n",
      "            RND: 0.3566369610293557\n",
      "            args: (42,)\n",
      "            kargs: (42,)\n",
      "        \n"
     ]
    },
    {
     "ename": "ConnectionRefusedError",
     "evalue": "Conexão foi recusada",
     "output_type": "error",
     "traceback": [
      "\u001b[1;31m---------------------------------------------------------------------------\u001b[0m",
      "\u001b[1;31mConnectionRefusedError\u001b[0m                    Traceback (most recent call last)",
      "\u001b[1;32mc:\\Users\\Jessi\\Desktop\\Bootcamp - HOW\\A002\\main.ipynb Célula: 14\u001b[0m in \u001b[0;36m<cell line: 1>\u001b[1;34m()\u001b[0m\n\u001b[1;32m----> <a href='vscode-notebook-cell:/c%3A/Users/Jessi/Desktop/Bootcamp%20-%20HOW/A002/main.ipynb#X16sZmlsZQ%3D%3D?line=0'>1</a>\u001b[0m test_func(\u001b[39m42\u001b[39;49m)\n",
      "\u001b[1;32mc:\\Users\\Jessi\\Desktop\\Bootcamp - HOW\\A002\\main.ipynb Célula: 14\u001b[0m in \u001b[0;36mtest_func\u001b[1;34m(*args, **kargs)\u001b[0m\n\u001b[0;32m      <a href='vscode-notebook-cell:/c%3A/Users/Jessi/Desktop/Bootcamp%20-%20HOW/A002/main.ipynb#X16sZmlsZQ%3D%3D?line=8'>9</a>\u001b[0m     \u001b[39mraise\u001b[39;00m \u001b[39mConnectionAbortedError\u001b[39;00m(\u001b[39m'\u001b[39m\u001b[39mConexão foi finalizada\u001b[39m\u001b[39m'\u001b[39m)\n\u001b[0;32m     <a href='vscode-notebook-cell:/c%3A/Users/Jessi/Desktop/Bootcamp%20-%20HOW/A002/main.ipynb#X16sZmlsZQ%3D%3D?line=9'>10</a>\u001b[0m \u001b[39melif\u001b[39;00m rnd \u001b[39m<\u001b[39m \u001b[39m.4\u001b[39m:\n\u001b[1;32m---> <a href='vscode-notebook-cell:/c%3A/Users/Jessi/Desktop/Bootcamp%20-%20HOW/A002/main.ipynb#X16sZmlsZQ%3D%3D?line=10'>11</a>\u001b[0m     \u001b[39mraise\u001b[39;00m \u001b[39mConnectionRefusedError\u001b[39;00m(\u001b[39m'\u001b[39m\u001b[39mConexão foi recusada\u001b[39m\u001b[39m'\u001b[39m)\n\u001b[0;32m     <a href='vscode-notebook-cell:/c%3A/Users/Jessi/Desktop/Bootcamp%20-%20HOW/A002/main.ipynb#X16sZmlsZQ%3D%3D?line=11'>12</a>\u001b[0m \u001b[39melif\u001b[39;00m rnd \u001b[39m<\u001b[39m \u001b[39m.6\u001b[39m:\n\u001b[0;32m     <a href='vscode-notebook-cell:/c%3A/Users/Jessi/Desktop/Bootcamp%20-%20HOW/A002/main.ipynb#X16sZmlsZQ%3D%3D?line=12'>13</a>\u001b[0m     \u001b[39mraise\u001b[39;00m \u001b[39mTimeoutError\u001b[39;00m(\u001b[39m'\u001b[39m\u001b[39mTempo de espera excedido\u001b[39m\u001b[39m'\u001b[39m)\n",
      "\u001b[1;31mConnectionRefusedError\u001b[0m: Conexão foi recusada"
     ]
    }
   ],
   "source": [
    "test_func(42)"
   ]
  },
  {
   "cell_type": "code",
   "execution_count": 13,
   "id": "298f493a-288f-4f12-8c11-3ec91b23ffab",
   "metadata": {},
   "outputs": [
    {
     "name": "stdout",
     "output_type": "stream",
     "text": [
      "\n",
      "            RND: 0.15864899303812663\n",
      "            args: (42, 51)\n",
      "            kargs: {'nome': 'louise'}\n",
      "        \n"
     ]
    },
    {
     "ename": "ConnectionAbortedError",
     "evalue": "Conexão foi finalizada",
     "output_type": "error",
     "traceback": [
      "\u001b[1;31m---------------------------------------------------------------------------\u001b[0m",
      "\u001b[1;31mConnectionAbortedError\u001b[0m                    Traceback (most recent call last)",
      "Input \u001b[1;32mIn [13]\u001b[0m, in \u001b[0;36m<cell line: 1>\u001b[1;34m()\u001b[0m\n\u001b[1;32m----> 1\u001b[0m \u001b[43mtest_func\u001b[49m\u001b[43m(\u001b[49m\u001b[38;5;241;43m42\u001b[39;49m\u001b[43m,\u001b[49m\u001b[43m \u001b[49m\u001b[38;5;241;43m51\u001b[39;49m\u001b[43m,\u001b[49m\u001b[43m \u001b[49m\u001b[43mnome\u001b[49m\u001b[38;5;241;43m=\u001b[39;49m\u001b[38;5;124;43m'\u001b[39;49m\u001b[38;5;124;43mlouise\u001b[39;49m\u001b[38;5;124;43m'\u001b[39;49m\u001b[43m)\u001b[49m\n",
      "Input \u001b[1;32mIn [11]\u001b[0m, in \u001b[0;36mtest_func\u001b[1;34m(*args, **kargs)\u001b[0m\n\u001b[0;32m      3\u001b[0m \u001b[38;5;28mprint\u001b[39m(\u001b[38;5;124mf\u001b[39m\u001b[38;5;124m\"\"\"\u001b[39m\n\u001b[0;32m      4\u001b[0m \u001b[38;5;124m        RND: \u001b[39m\u001b[38;5;132;01m{\u001b[39;00mrnd\u001b[38;5;132;01m}\u001b[39;00m\n\u001b[0;32m      5\u001b[0m \u001b[38;5;124m        args: \u001b[39m\u001b[38;5;132;01m{\u001b[39;00margs \u001b[38;5;28;01mif\u001b[39;00m args \u001b[38;5;28;01melse\u001b[39;00m \u001b[38;5;124m'\u001b[39m\u001b[38;5;124msem args\u001b[39m\u001b[38;5;124m'\u001b[39m\u001b[38;5;132;01m}\u001b[39;00m\n\u001b[0;32m      6\u001b[0m \u001b[38;5;124m        kargs: \u001b[39m\u001b[38;5;132;01m{\u001b[39;00mkargs \u001b[38;5;28;01mif\u001b[39;00m kargs \u001b[38;5;28;01melse\u001b[39;00m \u001b[38;5;124m'\u001b[39m\u001b[38;5;124msem kargs\u001b[39m\u001b[38;5;124m'\u001b[39m\u001b[38;5;132;01m}\u001b[39;00m\n\u001b[0;32m      7\u001b[0m \u001b[38;5;124m    \u001b[39m\u001b[38;5;124m\"\"\"\u001b[39m)\n\u001b[0;32m      8\u001b[0m \u001b[38;5;28;01mif\u001b[39;00m rnd \u001b[38;5;241m<\u001b[39m \u001b[38;5;241m.2\u001b[39m:\n\u001b[1;32m----> 9\u001b[0m     \u001b[38;5;28;01mraise\u001b[39;00m \u001b[38;5;167;01mConnectionAbortedError\u001b[39;00m(\u001b[38;5;124m'\u001b[39m\u001b[38;5;124mConexão foi finalizada\u001b[39m\u001b[38;5;124m'\u001b[39m)\n\u001b[0;32m     10\u001b[0m \u001b[38;5;28;01melif\u001b[39;00m rnd \u001b[38;5;241m<\u001b[39m \u001b[38;5;241m.4\u001b[39m:\n\u001b[0;32m     11\u001b[0m     \u001b[38;5;28;01mraise\u001b[39;00m \u001b[38;5;167;01mConnectionRefusedError\u001b[39;00m(\u001b[38;5;124m'\u001b[39m\u001b[38;5;124mConexão foi recusada\u001b[39m\u001b[38;5;124m'\u001b[39m)\n",
      "\u001b[1;31mConnectionAbortedError\u001b[0m: Conexão foi finalizada"
     ]
    }
   ],
   "source": [
    "test_func(42, 51, nome='louise')"
   ]
  },
  {
   "cell_type": "code",
   "execution_count": 19,
   "id": "2bca664f-8711-4d90-8f2b-8ed0d5171b06",
   "metadata": {},
   "outputs": [],
   "source": [
    "log = logging.getLogger()\n",
    "log.setLevel(logging.DEBUG)\n",
    "formatter = logging.Formatter(\n",
    "    '%(asctime)s - %(name)s - %(levelname)s - %(message)s')\n",
    "ch = logging.StreamHandler()\n",
    "ch.setFormatter(formatter)\n",
    "log.addHandler(ch)"
   ]
  },
  {
   "cell_type": "code",
   "execution_count": null,
   "id": "9c898cd2-8597-498a-b12d-dc6a7002c3a1",
   "metadata": {},
   "outputs": [],
   "source": []
  }
 ],
 "metadata": {
  "kernelspec": {
   "display_name": "Python 3 (ipykernel)",
   "language": "python",
   "name": "python3"
  },
  "language_info": {
   "codemirror_mode": {
    "name": "ipython",
    "version": 3
   },
   "file_extension": ".py",
   "mimetype": "text/x-python",
   "name": "python",
   "nbconvert_exporter": "python",
   "pygments_lexer": "ipython3",
   "version": "3.10.6"
  },
  "vscode": {
   "interpreter": {
    "hash": "46a3bd28812c8e2038a4233bf2604c4b616b16cfe390044b91da1a5b9bd69c2f"
   }
  }
 },
 "nbformat": 4,
 "nbformat_minor": 5
}
